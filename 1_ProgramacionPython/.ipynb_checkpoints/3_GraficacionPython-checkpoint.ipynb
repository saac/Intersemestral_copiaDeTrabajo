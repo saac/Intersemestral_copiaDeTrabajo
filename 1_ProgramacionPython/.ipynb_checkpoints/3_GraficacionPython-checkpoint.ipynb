{
 "cells": [
  {
   "cell_type": "markdown",
   "id": "93035ed9",
   "metadata": {},
   "source": [
    "<h1 align=\"center\">Física Computacional.</h1>\n",
    "<h1 align=\"center\">Intersemestral 2025-4</h1>\n",
    "\n",
    "<h2>Sergio A. Alcalá Corona </h2> \n",
    "\n",
    "---\n",
    "### Rodrigo Vega Vilchis\n",
    "---"
   ]
  },
  {
   "cell_type": "markdown",
   "id": "96d58981",
   "metadata": {},
   "source": [
    "<h1 align=\"center\">Programación para la física computacional</h1> \n",
    "\n",
    "# 1.1. Fundamentos de programación\n",
    "\n",
    "---"
   ]
  },
  {
   "cell_type": "markdown",
   "id": "ba0fc085",
   "metadata": {},
   "source": [
    "## 1.1.5 Graficación con Python.\n",
    "\n",
    "En este *Notebook* expondremos algunos ejemplos de como elaborar gráficas en Python con la biblioteca **Matplotlib**, una de las más usadas.\n",
    "\n",
    "\n",
    "---\n"
   ]
  },
  {
   "cell_type": "markdown",
   "id": "5e3c20f2",
   "metadata": {},
   "source": [
    "### Uso básico"
   ]
  },
  {
   "cell_type": "markdown",
   "id": "80aa0c90",
   "metadata": {},
   "source": [
    "Es posible dibujar gráficas dentro de *Python*, usando el paquete **matplotlib** (que hay que tener instalado).\n",
    "\n",
    "Lo primero es cargar dicha biblioteca; un consenso actual es hacerlo de la siguiente manera:\n",
    "\n",
    "`import NOMBREDELABIBLIOTECA as ABREVIATURA` \n",
    "\n",
    "Dicha convención se puede usar para cualquier otra biblioteca, y así es más fácil llevar un orden y saber de dónde viene cada función."
   ]
  },
  {
   "cell_type": "code",
   "execution_count": null,
   "id": "24e00bc5",
   "metadata": {},
   "outputs": [],
   "source": [
    "import matplotlib.pyplot as plt"
   ]
  },
  {
   "cell_type": "markdown",
   "id": "348db0f6",
   "metadata": {},
   "source": [
    "El comando principal de **matplotlib** es **`plot`**.\n"
   ]
  },
  {
   "cell_type": "code",
   "execution_count": null,
   "id": "2472dbbb",
   "metadata": {},
   "outputs": [],
   "source": [
    "y = [ 1.0, 2.4, 1.7, 0.3, 0.6, 1.8]\n",
    "plt.plot(y,'.')"
   ]
  },
  {
   "cell_type": "code",
   "execution_count": null,
   "id": "8cdce674",
   "metadata": {},
   "outputs": [],
   "source": [
    "plt.plot(y)\n",
    "plt.plot(y,'r.')"
   ]
  },
  {
   "cell_type": "markdown",
   "id": "64a83a85",
   "metadata": {},
   "source": [
    "\n",
    "Acepta uno o dos listas (o vectores de *numpy*), que corresponden a los valores de las coordenadas $x$ y $y$ de una gráfica 2D. \n",
    "\n",
    "Así en general, con tener una lista de números (enteros o flotantes) y pasarla como argumento de la función **`plot`** es suficiente para generar una gráfica. La lista de números  corresponderá a las coordenadas en $y$ mientras que los valores en $x$ serán los asociados su posición en la lista.\n",
    "\n",
    "\n",
    "Por ejemplo, si queremos graficar los cuadrados de los números de 1 a 10, podemos hacer:"
   ]
  },
  {
   "cell_type": "code",
   "execution_count": null,
   "id": "b8ef5d9c",
   "metadata": {},
   "outputs": [],
   "source": [
    "from numpy import *\n",
    "\n",
    "x = arange(10)\n",
    "y = x*x\n",
    "\n",
    "plt.plot(x,y)"
   ]
  },
  {
   "cell_type": "code",
   "execution_count": null,
   "id": "20f6a388",
   "metadata": {},
   "outputs": [],
   "source": [
    "y"
   ]
  },
  {
   "cell_type": "code",
   "execution_count": null,
   "id": "99d283de",
   "metadata": {},
   "outputs": [],
   "source": [
    "plt.plot(x, y, 'o')"
   ]
  },
  {
   "cell_type": "code",
   "execution_count": null,
   "id": "d3463e22",
   "metadata": {},
   "outputs": [],
   "source": [
    "y = [ i ** 2 for i in range(10)]\n",
    "plt.plot(y)\n",
    "plt.plot(y, 'ro')"
   ]
  },
  {
   "cell_type": "markdown",
   "id": "a71ebdd9",
   "metadata": {},
   "source": [
    "Usar la biblioteca de `numpy` es _casi obligatorio_ para elaborar gráficas de funciones. Por lo que es convniente exportarla usando la convención:"
   ]
  },
  {
   "cell_type": "code",
   "execution_count": null,
   "id": "5339d97b",
   "metadata": {},
   "outputs": [],
   "source": [
    "import numpy as np"
   ]
  },
  {
   "cell_type": "markdown",
   "id": "7e16385a",
   "metadata": {},
   "source": [
    "Una mucho mejor forma de graficar es indicar los valores de la abscisa y ordenada de forma independiente. \n",
    "\n",
    "**OJO**: el número de elementos de los arreglos del eje _x_ y del eje _y_ **deben ser iguales**."
   ]
  },
  {
   "cell_type": "code",
   "execution_count": null,
   "id": "dfc0e001",
   "metadata": {},
   "outputs": [],
   "source": [
    "x = np.linspace(-2*np.pi,2*np.pi,100)\n",
    "fx = np.cos(x)\n",
    "plt.plot(x,fx)\n",
    "plt.plot(x,fx,'g.')"
   ]
  },
  {
   "cell_type": "code",
   "execution_count": null,
   "id": "ce48dc9c",
   "metadata": {},
   "outputs": [],
   "source": [
    "x"
   ]
  },
  {
   "cell_type": "code",
   "execution_count": null,
   "id": "e95ab980",
   "metadata": {},
   "outputs": [],
   "source": [
    "plt.grid?"
   ]
  },
  {
   "cell_type": "code",
   "execution_count": null,
   "id": "77d9a61e",
   "metadata": {},
   "outputs": [],
   "source": [
    "plt.plot(x,fx)\n",
    "plt.grid()"
   ]
  },
  {
   "cell_type": "code",
   "execution_count": null,
   "id": "f758669b",
   "metadata": {},
   "outputs": [],
   "source": [
    "plt.plot(x,fx)\n",
    "\n",
    "plt.axhline(y = 0.0, xmin = 0.0, color = 'black')\n",
    "plt.axvline(x = 0.0, ymin = 0.0, color = 'black')\n",
    "plt.grid()"
   ]
  },
  {
   "cell_type": "markdown",
   "id": "55b70ef6",
   "metadata": {},
   "source": [
    "Puedes colocar varias funciones en la misma gráfica y para darle diferentes estilos, es posible usar una notación abreviada para seleccionar distintos tipos de líneas y/o  colores. \n",
    "\n",
    "Calculemos la  función $\\sin(x)$"
   ]
  },
  {
   "cell_type": "code",
   "execution_count": null,
   "id": "948f799a",
   "metadata": {},
   "outputs": [],
   "source": [
    "fx1 = np.sin(x)"
   ]
  },
  {
   "cell_type": "markdown",
   "id": "e9560000",
   "metadata": {},
   "source": [
    "En la siguiente gráfica $\\sin(x)$ tiene la opción **`go`**, donde la `g` indica el color de línea, en este caso verde, y la `o` que el marcador para dibujar el seno serán puntos.\n",
    "\n",
    "Mientras que el $\\cos(x)$, tiene la opción **`r--`** donde la `r` indica que la línea será de color rojo y el guión doble `--` señala que la línea será punteada. "
   ]
  },
  {
   "cell_type": "code",
   "execution_count": null,
   "id": "26a310f9",
   "metadata": {},
   "outputs": [],
   "source": [
    "plt.plot(x,fx,'r--')\n",
    "plt.plot(x,fx1,'go')\n",
    "\n",
    "plt.axhline(y = 0.0, xmin = 0.0, color = 'black')\n",
    "plt.axvline(x = 0.0, ymin = 0.0, color = 'black')\n",
    "plt.grid()"
   ]
  },
  {
   "cell_type": "markdown",
   "id": "a74c1c90",
   "metadata": {},
   "source": [
    "Para mayor información sobre los colores y los estilos de línea consulta el manual de la función `plt.plot`, recuerda que esto lo puedes hacer ejecutando en una celda individual **`plt.plot?`**."
   ]
  },
  {
   "cell_type": "code",
   "execution_count": null,
   "id": "3caaa013",
   "metadata": {},
   "outputs": [],
   "source": [
    "plt.plot?"
   ]
  },
  {
   "cell_type": "markdown",
   "id": "82a94f69",
   "metadata": {},
   "source": [
    "La opción abreviada sólo tiene disponible 7 colores si queremos usar otros colores debemos indicarlo con el argumento `color = ` para consultar los nombres de los colores disponibles dale [click aquí.](https://matplotlib.org/3.1.1/gallery/color/named_colors.html#sphx-glr-gallery-color-named-colors-py) Incluso podemos ingresar el color en el sistema _RBG_ o _CMK_. \n",
    "\n",
    "Además podemos indicar el estilo de línea con argumentos `linestyle = ` o `marker`, o modificar el tamaño del marcador o el ancho de línea con `markersize` y `linewidth`, respectivamente.\n",
    "\n",
    "Para colocar las etiquetas de los ejes y del título de la gráfica usamos `plt.title`, `plt.xlabel` y `plt.ylabel`."
   ]
  },
  {
   "cell_type": "code",
   "execution_count": null,
   "id": "724e1139",
   "metadata": {},
   "outputs": [],
   "source": [
    "plt.plot(x,fx,color='olive', linestyle=':',linewidth=3)\n",
    "plt.plot(x,fx1,color='#a41b81',marker='+', markersize=9,linestyle='None')\n",
    "\n",
    "\n",
    "plt.title(\"Funciones periodicas\")\n",
    "plt.xlabel(\"x\")\n",
    "plt.ylabel(\"f(x)\")\n",
    "\n",
    "plt.axhline(y = 0.0, xmin = 0.0, color = 'black')\n",
    "plt.axvline(x = 0.0, ymin = 0.0, color = 'black')\n",
    "plt.grid()"
   ]
  },
  {
   "cell_type": "markdown",
   "id": "e215ab35",
   "metadata": {},
   "source": [
    "Cuando queremos colocar una etiqueta a las funciones graficadas lo hacemos con el argumento `label` y al final llamamos a la función `plt.legend()`. \n",
    "\n",
    "En el caso que tenemos la opción `loc = ` dentro de `plt.legend` indica donde se colocará el texto de las etiquetas. Por default `matplotlib` tratará de colocar los letreros en el mejor espacio (`loc = 0`)."
   ]
  },
  {
   "cell_type": "code",
   "execution_count": null,
   "id": "faf47b7d",
   "metadata": {},
   "outputs": [],
   "source": [
    "plt.plot(x,fx,color='olive', ls='-',lw=2,label='cos(x)')\n",
    "plt.plot(x,fx1,color='#a41b81',marker='.',ms=9,ls='None',label='sen(x)')\n",
    "\n",
    "plt.title(\"Funciones periodicas\")\n",
    "plt.xlabel(\"x\")\n",
    "plt.ylabel(\"f(x)\")\n",
    "plt.legend(loc=2)\n",
    "\n",
    "plt.axhline(y = 0.0, xmin = 0.0, color = 'black')\n",
    "plt.axvline(x = 0.0, ymin = 0.0, color = 'black')\n",
    "plt.grid()"
   ]
  },
  {
   "cell_type": "markdown",
   "id": "525887e4",
   "metadata": {},
   "source": [
    "Puedes optimizar la estetica y estilo (_**pimpear**_) de tu gráfica con mucho detalle."
   ]
  },
  {
   "cell_type": "code",
   "execution_count": null,
   "id": "5c4ee233",
   "metadata": {},
   "outputs": [],
   "source": [
    "plt.figure(figsize=(7,7)) # Modifica el tamaño de la gráfica. Esta dado en pulgadas.\n",
    "\n",
    "plt.plot(x,fx,color='olive', ls='-',lw=2,label='cos(x)')\n",
    "plt.plot(x,fx1,color='#a41b81',marker='.',ms=9,ls='None',label='sen(x)')\n",
    "\n",
    "plt.title(\"Funciones periodicas\")\n",
    "plt.xlabel(\"x\")\n",
    "plt.ylabel(\"f(x)\")\n",
    "\n",
    "plt.legend(loc=2)\n",
    "\n",
    "plt.grid(True) # Dibuja en el fondo una rejilla  gris claro \n",
    "\n",
    "# Colocar un texto en la posición señalada\n",
    "plt.text(-np.pi/2, -1.1, 'Minimo',horizontalalignment='center', verticalalignment='baseline') \n",
    "\n",
    "plt.annotate('Maximo',(np.pi/2,1),xytext=(2.5,0.9),\n",
    "             arrowprops=dict(facecolor='black',width=1,headwidth=5,shrink=0.05),\n",
    "             horizontalalignment='left') # Hace una anotación en el lugar indicado, utiliza una flecha para señalar la posición.\n",
    "\n",
    "plt.xlim(-np.pi,np.pi) # Limita la gráfica sobre el eje x\n",
    "\n",
    "yt = np.arange(-1,1.5,0.5) # Este arreglo sirve generar nuevas marcas sobre el eje y\n",
    "\n",
    "plt.yticks(yt) # Con esta función se colocan las nuevas marcas sobre el eje y\n",
    "\n",
    "xt = [-np.pi,0,np.pi] # Este arreglo sirve generar nuevas marcas sobre el eje x\n",
    "\n",
    "xt_labels = ['-pi','0','pi'] # Sobre las marcas se pueden colocar texto \n",
    "\n",
    "plt.xticks(xt,xt_labels) # Con esta función se colocan las nuevas marcas sobre el eje y\n",
    "\n",
    "plt.savefig('funciones.png') # Guarda la gráfica como un archivo independiente. Puedes utilizar la extensión .jpg, .pdf entre otras."
   ]
  },
  {
   "cell_type": "markdown",
   "id": "7f940169",
   "metadata": {},
   "source": [
    "Para un mejor acabado de la gráfica puedes utilizar $\\LaTeX$, para ello primero hay que utilizar la siguiente instrucción."
   ]
  },
  {
   "cell_type": "code",
   "execution_count": null,
   "id": "08e6cece",
   "metadata": {},
   "outputs": [],
   "source": [
    "import matplotlib as mpl\n",
    "mpl.rc('text', usetex = True)"
   ]
  },
  {
   "cell_type": "markdown",
   "id": "c9ff2031",
   "metadata": {},
   "source": [
    "Cuando necesites utilizar algún simbolo de $\\LaTeX$ escríbelo entre dos signos de dinero `$` tal como lo utilizarías dentro de un archivo `.tex`. \n",
    "\n",
    "En la mayoría de las funciones para las etiquetas la opción `fontsize` es suficiente para modificar el tamaño de la tipografía."
   ]
  },
  {
   "cell_type": "code",
   "execution_count": null,
   "id": "43fef50b",
   "metadata": {},
   "outputs": [],
   "source": [
    "plt.figure(figsize=(7,7))\n",
    "\n",
    "plt.plot(x, fx, color='olive', ls='-', lw=2, label=r'$\\cos(x)$')\n",
    "\n",
    "plt.plot(x,fx1,color='#a41b81',marker='.',ms=9,ls='None',label=r'$\\sin(x)$')\n",
    "\n",
    "plt.title(\"Funciones periodicas\",fontsize=20)\n",
    "plt.xlabel(\"$x$\",fontsize=18)\n",
    "plt.ylabel(\"$f(x)$\",fontsize=18)\n",
    "plt.legend(loc=2)\n",
    "\n",
    "plt.grid(True)\n",
    "plt.text(-np.pi/2, -1.1, 'Mínimo',horizontalalignment='center',\n",
    "         verticalalignment='baseline')\n",
    "plt.annotate('Máximo',(np.pi/2,1),xytext=(2.5,0.9),\n",
    "             arrowprops=dict(facecolor='black',width=1,headwidth=5,shrink=0.05),\n",
    "             horizontalalignment='left')\n",
    "\n",
    "plt.xlim(-np.pi,np.pi)\n",
    "\n",
    "yt = np.arange(-1,1.5,0.5)\n",
    "plt.yticks(yt,fontsize=18)\n",
    "xt = [-np.pi,0,np.pi]\n",
    "xt_labels = [r'$-\\pi$','$0$' ,r'$\\pi$']\n",
    "plt.xticks(xt,xt_labels,fontsize=18)\n",
    "\n",
    "plt.savefig('FPeridocas.pdf')"
   ]
  },
  {
   "cell_type": "markdown",
   "id": "4ba06f83",
   "metadata": {},
   "source": [
    "### Ejemplo: Suceción de Fibonacci\n",
    "\n",
    "Anteriormente hicimos un porgrama que calculaba los valores de la sucesión de Fibonacci.\n",
    "Al imprimir la diferencia, entre el número (_aureo_) $\\phi$ y los valores a los que $\\dfrac{f_{n+1}}{f_n}$ se iba acercando, notamos una especie de oscilación."
   ]
  },
  {
   "cell_type": "code",
   "execution_count": null,
   "id": "4e7caada",
   "metadata": {},
   "outputs": [],
   "source": [
    "import math as mt\n",
    "\n",
    "phi = (1 + mt.sqrt(5))/2\n",
    "f1,f2 = 1,1\n",
    "\n",
    "Fibonacci = []\n",
    "Time = []\n",
    "\n",
    "t = 0.0\n",
    "\n",
    "n = 1000000\n",
    "print(\"Para n =\",n)\n",
    "\n",
    "while f2 <= n:\n",
    "    \n",
    "    fn = f2/f1\n",
    "    Fibonacci.append(fn)\n",
    "    Time.append(t)\n",
    "    t = t + 1\n",
    "    \n",
    "    print(\"la diferencia con phi es: \",phi-fn)\n",
    "    f1,f2 = f2,f1+f2"
   ]
  },
  {
   "cell_type": "markdown",
   "id": "57ef6685",
   "metadata": {},
   "source": [
    "Esto se puede entender mejor, al grficar los valor de la sucesión $f_n$ vs $n$."
   ]
  },
  {
   "cell_type": "code",
   "execution_count": null,
   "id": "5a10d07d",
   "metadata": {},
   "outputs": [],
   "source": [
    "# %matplotlib notebook\n",
    "plt.figure(figsize=(9,6))\n",
    "\n",
    "plt.axhline(y = phi, xmin = 0.0, color = 'blue', linestyle='--', linewidth = 1)\n",
    "plt.text(-3.5, phi, r'$\\phi$', size=17)\n",
    "\n",
    "plt.plot(Time,Fibonacci, alpha=0.5)\n",
    "plt.plot(Time,Fibonacci,'r.')\n",
    "\n",
    "plt.grid()\n",
    "\n",
    "plt.axhline(y = 1.0, xmin = 0.0, color = 'black')"
   ]
  },
  {
   "cell_type": "markdown",
   "id": "76f33ea5",
   "metadata": {},
   "source": [
    "### Gráficas _semilogarítmica_ y _log-log_"
   ]
  },
  {
   "cell_type": "markdown",
   "id": "b7f65841",
   "metadata": {},
   "source": [
    "Vamos a graficar la función $f(x) = x^2$ en el intervalo $[1,100)$. Esta función nos servirá para introduccir las gráficas semilog y loglog.\n",
    "\n",
    "Definimos el intervalo y luego aplicamos la función cuadrática"
   ]
  },
  {
   "cell_type": "code",
   "execution_count": null,
   "id": "20adfea5",
   "metadata": {},
   "outputs": [],
   "source": [
    "x2 = np.linspace(1,1000)\n",
    "fx2 = x2**2"
   ]
  },
  {
   "cell_type": "markdown",
   "id": "b48da66d",
   "metadata": {},
   "source": [
    "La gráfica que por defecto nos arroja es la siguiente:"
   ]
  },
  {
   "cell_type": "code",
   "execution_count": null,
   "id": "36995b62",
   "metadata": {},
   "outputs": [],
   "source": [
    "plt.figure(figsize=(9,6))\n",
    "\n",
    "plt.plot(x2,fx2)\n",
    "\n",
    "plt.title(\"Una función exponencial $f(x) = x^2$\",fontsize=15)\n",
    "plt.xlabel(\"$x$\",fontsize=15)\n",
    "plt.ylabel(\"$f(x)$\",fontsize=15)\n",
    "\n",
    "plt.axhline(y = 0.0, xmin = 0.0, color = 'black')\n",
    "plt.axvline(x = 0.0, ymin = 0.0, color = 'black')\n",
    "plt.grid()"
   ]
  },
  {
   "cell_type": "markdown",
   "id": "bc056214",
   "metadata": {},
   "source": [
    "dado que los valores arrojados por la función cuadrática son enormes comparados con los valores de intervalo de entrada de la función, sobre el eje $y$ dominan los millones. Una manera de ver completo el eje $y$ es verlo en escala logarítmica. En este caso en vez de `plot` usamos `semilogy` (también se puede aplicar sobre el eje $x$ con `semilogx`semilogy)."
   ]
  },
  {
   "cell_type": "code",
   "execution_count": null,
   "id": "3450ac6d",
   "metadata": {},
   "outputs": [],
   "source": [
    "plt.figure(figsize=(9,6))\n",
    "\n",
    "plt.semilogy(x2,fx2)   #grafica semilog (el eje y esta en escala logaritmica)\n",
    "\n",
    "plt.title(r\"Gráfica semilog en $y$ de $f(x) = x^2$\",fontsize=15)\n",
    "plt.xlabel(\"$x$\",fontsize=15)\n",
    "plt.ylabel(\"$f(x)$\",fontsize=15)\n",
    "\n",
    "plt.axhline(y = 0.0, xmin = 0.0, color = 'black')\n",
    "plt.axvline(x = 0.0, ymin = 0.0, color = 'black')\n",
    "plt.grid()"
   ]
  },
  {
   "cell_type": "markdown",
   "id": "db4fe707",
   "metadata": {},
   "source": [
    "Si queremos aplicar la escala logaritmica a los dos ejes usamos `loglog`."
   ]
  },
  {
   "cell_type": "code",
   "execution_count": null,
   "id": "104c31ce",
   "metadata": {},
   "outputs": [],
   "source": [
    "plt.figure(figsize=(9,6))\n",
    "\n",
    "plt.loglog(x2,fx2)   #grafica log-log (ambos ejes estan en escala logaritmica)\n",
    "\n",
    "plt.title(r\"Gráfica log-log de $f(x) = x^2$\",fontsize=15)\n",
    "plt.xlabel(\"$x$\",fontsize=15)\n",
    "plt.ylabel(\"$f(x)$\",fontsize=15)\n",
    "\n",
    "plt.axhline(y = 0.0, xmin = 0.0, color = 'black')\n",
    "plt.axvline(x = 0.0, ymin = 0.0, color = 'black')\n",
    "plt.grid()"
   ]
  },
  {
   "cell_type": "markdown",
   "id": "696d14ee",
   "metadata": {},
   "source": [
    "### Gráficas en sistema de coordenadas polares"
   ]
  },
  {
   "cell_type": "markdown",
   "id": "561a629c",
   "metadata": {},
   "source": [
    "Con la función `polar` pueden obtener gráficas en el sistema de coordenadas polar. El primer argumento corresponde a los valores de $\\theta$ mientras que el segundo corresponde a los valores de $r$.\n",
    "\n",
    "Por ejemplo, la función $r(\\theta) = \\theta$ en el intervalo $[0,2\\pi)$ se vería como:"
   ]
  },
  {
   "cell_type": "code",
   "execution_count": null,
   "id": "5d00f2ad",
   "metadata": {},
   "outputs": [],
   "source": [
    "x = np.linspace(0,2*np.pi)"
   ]
  },
  {
   "cell_type": "markdown",
   "id": "a976ece0",
   "metadata": {},
   "source": [
    "**OJO** la función `plt.polar` trabaja en radianes (al igual que todas las funciones trigonométricas en `numpy`)."
   ]
  },
  {
   "cell_type": "code",
   "execution_count": null,
   "id": "fa43ff36",
   "metadata": {},
   "outputs": [],
   "source": [
    "plt.figure(figsize=(9,6))\n",
    "\n",
    "plt.polar(x,x)\n",
    "\n",
    "plt.title(\"Gráfica en coordenadas polares\",fontsize=15)"
   ]
  },
  {
   "cell_type": "markdown",
   "id": "95d4cc1d",
   "metadata": {},
   "source": [
    "### Histogramas"
   ]
  },
  {
   "cell_type": "markdown",
   "id": "b38dd116",
   "metadata": {},
   "source": [
    "Otra de las gráficas que más usarán será el histrograma. La manera de obtenerlo es muy sencillo con la función `plt.hist`. \n",
    "\n",
    "Para generar números 1000 aleatorios con la distribución normal lo hacemos con la siguiente función:"
   ]
  },
  {
   "cell_type": "code",
   "execution_count": null,
   "id": "a5f4c65b",
   "metadata": {},
   "outputs": [],
   "source": [
    "aleatorios = np.random.normal(size=1000)"
   ]
  },
  {
   "cell_type": "code",
   "execution_count": null,
   "id": "fcc74d4f",
   "metadata": {},
   "outputs": [],
   "source": [
    "plt.figure(figsize=(9,7)) # esta instrucción sirve para modificar el tamaño de al gráfica. \n",
    "                          # El primer número da el ancho y el segundo da lo alto.\n",
    "\n",
    "plt.hist(aleatorios,bins=31,histtype='bar', align='left',color='royalblue',rwidth=0.9)\n",
    "\n",
    "plt.title('Histograma normalizado de números aleatorios generados con la distibución normal',fontsize=15)\n",
    "plt.ylabel('Frecuencia',fontsize=15)\n",
    "plt.xlabel(\"valores\",fontsize=15)\n",
    "\n",
    "plt.grid()"
   ]
  },
  {
   "cell_type": "markdown",
   "id": "40bd92aa",
   "metadata": {},
   "source": [
    "### Subgráficas"
   ]
  },
  {
   "cell_type": "markdown",
   "id": "1470d429",
   "metadata": {},
   "source": [
    "Las subgráficas es otra de las funciones más útiles y usadas. Con esto se puede comparar diversas gráficas. En este caso `subplot(rcn)` es la función que deben ocupa. Lo que nos puede generar una matrix donde `r` es el número de renglones, `c` el número de columnas y `n` es el número de la gráfica. La numeración de las gráficas empieza desde la esquina superior izquierda y continua como normalmente leemos, de izquierda a derecha y de arriba hacia abajo.\n",
    "\n",
    "En el siguiente ejemplo, mostraremos la función $\\sin(x)$ en el intervalo $[0,2\\pi)$ y sus dos primeros armónicos  y en la última subgráfica los sumaremos."
   ]
  },
  {
   "cell_type": "code",
   "execution_count": null,
   "id": "2a995a90",
   "metadata": {},
   "outputs": [],
   "source": [
    "x = np.linspace(0,2*np.pi,num=200)\n",
    "f1 = np.sin(x)\n",
    "f2 = np.sin(2*x)\n",
    "f3 = np.sin(3*x)\n",
    "f4 = f1+f2+f3"
   ]
  },
  {
   "cell_type": "code",
   "execution_count": null,
   "id": "58e71a80",
   "metadata": {},
   "outputs": [],
   "source": [
    "plt.figure(figsize=(9,6))\n",
    "\n",
    "plt.subplot(221)\n",
    "plt.plot(x,f1)\n",
    "plt.title(r'$f_1 = \\sin(x)$',fontsize=13)\n",
    "plt.ylabel(\"$f(x)$\",fontsize=11)\n",
    "# plt.axhline(y = 0.0, xmin = 0.0, color = 'black')\n",
    "# plt.axvline(x = 0.0, ymin = 0.0, color = 'black')\n",
    "# plt.grid()\n",
    "\n",
    "plt.subplot(222)\n",
    "plt.plot(x,f2)\n",
    "plt.title(r'$f_2 = \\sin(2x)$',fontsize=13)\n",
    "# plt.axhline(y = 0.0, xmin = 0.0, color = 'black')\n",
    "# plt.axvline(x = 0.0, ymin = 0.0, color = 'black')\n",
    "plt.grid()\n",
    "\n",
    "\n",
    "plt.subplot(223)\n",
    "plt.plot(x,f3)\n",
    "plt.title(r'$f_2 = \\sin(4x)$',fontsize=13)\n",
    "plt.xlabel(r'$x$',fontsize=13)\n",
    "plt.ylabel(\"$f(x)$\",fontsize=11)\n",
    "plt.axhline(y = 0.0, xmin = 0.0, color = 'black')\n",
    "plt.axvline(x = 0.0, ymin = 0.0, color = 'black')\n",
    "# plt.grid()\n",
    "\n",
    "plt.subplot(224)\n",
    "plt.plot(x,f4)\n",
    "plt.title('$f_4 = f_1+f_2+f_3$',fontsize=13)\n",
    "plt.xlabel('$x$',fontsize=13)\n",
    "plt.axhline(y = 0.0, xmin = 0.0, color = 'black')\n",
    "plt.axvline(x = 0.0, ymin = 0.0, color = 'black')\n",
    "plt.grid()\n",
    "\n",
    "plt.tight_layout() # con esta instrucción se autoajustan los espacios entre las gráficas mismas y también con los bordes de la imagen "
   ]
  },
  {
   "cell_type": "markdown",
   "id": "7365c1f1",
   "metadata": {},
   "source": [
    "Aqui otro ejemplo de varias gráficas:"
   ]
  },
  {
   "cell_type": "code",
   "execution_count": null,
   "id": "8b6454b8",
   "metadata": {},
   "outputs": [],
   "source": [
    "def f(t):\n",
    "    \"\"\"Oscilacion amortiguada\"\"\"\n",
    "    c = cos(2*pi*t)\n",
    "    e = exp(-t)\n",
    "    return c*e\n",
    "\n",
    "t1 = arange(0.0, 5.0, 0.1)\n",
    "t2 = arange(0.0, 5.0, 0.02)\n",
    "t3 = arange(0.0, 2.0, 0.01)\n",
    "\n",
    "plt.figure(figsize=(9,6))\n",
    "\n",
    "#Es una tabla de 2 renglones y columna (21#)\n",
    "#Por lo tanto solo hay 2 espacios para poner figuras!\n",
    "\n",
    "plt.subplot(211) # Grafica uno\n",
    "plt.plot(t1, f(t1), 'bo', t2, f(t2), 'k--', markerfacecolor='green')\n",
    "plt.grid(True)\n",
    "plt.title('Amortiguacion de oscilaciones')\n",
    "plt.ylabel('Amortiguada')\n",
    "\n",
    "plt.subplot(212) # Grafica dos\n",
    "plt.plot(t3, cos(2*pi*t3), 'r.')\n",
    "plt.grid(True)\n",
    "plt.xlabel('tiempo $t$ (s)')\n",
    "plt.ylabel('No amortiguada')\n",
    "\n",
    "\n",
    "# plt.show()   ### Si esto fuera un script de Python hay que llamar este commando para poder ver la gráfica."
   ]
  },
  {
   "cell_type": "markdown",
   "id": "0926665e",
   "metadata": {},
   "source": [
    "Finalmente, es importante señalar que si queremos hacer nuestras gráficas desde un **Script de Python** es necesarios llamar el comando _**show()**_ con `plt.show()` dentro del script para poder visualizar las gráficas."
   ]
  },
  {
   "cell_type": "markdown",
   "id": "7f308061",
   "metadata": {},
   "source": [
    "<!-- ### Gráficas en 2D -->\n",
    "### Scatter plots"
   ]
  },
  {
   "cell_type": "code",
   "execution_count": null,
   "id": "252f4b71",
   "metadata": {},
   "outputs": [],
   "source": [
    "from pylab import scatter,xlabel,ylabel,xlim,ylim,show\n",
    "from numpy import loadtxt\n",
    "\n",
    "data = loadtxt(\"estrellas.txt\",float)\n",
    "\n",
    "x = data[:,0]\n",
    "y = data [:,1]\n",
    "\n",
    "plt.figure(figsize=(9,6))\n",
    "\n",
    "scatter(x,y)\n",
    "\n",
    "plt.title(\"Scatter Plot de datos esperimentales\",fontsize=15)\n",
    "\n",
    "xlabel(\"Temperatura\",fontsize=13)\n",
    "ylabel(\"Magnitud\",fontsize=13)\n",
    "xlim(0, 13000)\n",
    "ylim(-5,20)\n",
    "\n",
    "plt.axhline(y = 0.0, xmin = 0.0, color = 'black')\n",
    "plt.axvline(x = 0.0, ymin = 0.0, color = 'black')\n",
    "plt.grid()\n"
   ]
  },
  {
   "cell_type": "code",
   "execution_count": null,
   "id": "bb03f8b1",
   "metadata": {},
   "outputs": [],
   "source": []
  },
  {
   "cell_type": "markdown",
   "id": "3296fd65",
   "metadata": {},
   "source": [
    "<!-- ### Gráficas en 2D -->\n",
    "### Density plots"
   ]
  },
  {
   "cell_type": "code",
   "execution_count": null,
   "id": "426671d9",
   "metadata": {},
   "outputs": [],
   "source": [
    "from pylab import imshow,show\n",
    "from numpy import loadtxt\n",
    "\n",
    "plt.figure(figsize=(9,6))\n",
    "\n",
    "data = loadtxt(\"circular.txt\",float)\n",
    "imshow(data)\n"
   ]
  },
  {
   "cell_type": "code",
   "execution_count": null,
   "id": "ac8ad83c-f939-4d7c-8964-e2105e9b87ea",
   "metadata": {},
   "outputs": [],
   "source": []
  },
  {
   "cell_type": "code",
   "execution_count": null,
   "id": "be11e176",
   "metadata": {},
   "outputs": [],
   "source": [
    "data= loadtxt(\"circular.txt\",float)\n",
    "imshow(data,origin=\"lower\")\n",
    "plt.gray()"
   ]
  },
  {
   "cell_type": "code",
   "execution_count": null,
   "id": "1198d1dd",
   "metadata": {},
   "outputs": [],
   "source": [
    "imshow(data,origin=\"lower\",extent=[0,10,0,5])\n",
    "plt.gray()"
   ]
  },
  {
   "cell_type": "code",
   "execution_count": null,
   "id": "4317e530",
   "metadata": {},
   "outputs": [],
   "source": [
    "imshow(data,origin=\"lower\",extent=[0,10,0,5] ,aspect=2.0)"
   ]
  },
  {
   "cell_type": "code",
   "execution_count": null,
   "id": "73c5c6b8",
   "metadata": {},
   "outputs": [],
   "source": []
  },
  {
   "cell_type": "code",
   "execution_count": null,
   "id": "1257c234",
   "metadata": {},
   "outputs": [],
   "source": [
    "from math import sqrt,sin,pi\n",
    "from numpy import empty\n",
    "from pylab import imshow,gray,show\n",
    "\n",
    "wavelength = 5.0\n",
    "k = 2*pi/wavelength\n",
    "xi0 = 1.0\n",
    "separation = 20.0      # Separacion de los centros en cm\n",
    "side = 100.0           # lado del cuadro en cm\n",
    "points = 500           # Número de puntos de la cuadrícula a lo largo de cada lado\n",
    "spacing = side/points  # Espaciado de puntos en cm\n",
    "\n",
    "\n",
    "# Calculo de las posiciones de los centros de los círculos.\n",
    "x1 = side/2 + separation/2\n",
    "y1 = side/2\n",
    "x2 = side/2 - separation/2\n",
    "y2 = side/2\n",
    "\n",
    "# Crea un arreglo para almacenar las alturas.\n",
    "xi = empty([points,points],float)\n",
    "\n",
    "# Calcula los valores en el arreglo.\n",
    "for i in range(points):\n",
    "    y = spacing*i\n",
    "    for j in range(points):\n",
    "        x = spacing*j\n",
    "        r1 = sqrt((x-x1)**2+(y-y1)**2)\n",
    "        r2 = sqrt((x-x2)**2+(y-y2)**2)\n",
    "        xi[i,j] = xi0*sin(k*r1) + xi0*sin(k*r2)\n",
    "\n",
    "# Hace la gráfica\n",
    "imshow(xi,origin=\"lower\",extent=[0,side,0,side])\n",
    "plt.gray()\n",
    "# plt.show()"
   ]
  },
  {
   "cell_type": "code",
   "execution_count": null,
   "id": "f1c5ff98",
   "metadata": {},
   "outputs": [],
   "source": []
  },
  {
   "cell_type": "code",
   "execution_count": null,
   "id": "557b0e41",
   "metadata": {},
   "outputs": [],
   "source": []
  },
  {
   "cell_type": "code",
   "execution_count": null,
   "id": "4d110c5e",
   "metadata": {},
   "outputs": [],
   "source": []
  }
 ],
 "metadata": {
  "@webio": {
   "lastCommId": null,
   "lastKernelId": null
  },
  "kernelspec": {
   "display_name": "Python 3 (ipykernel)",
   "language": "python",
   "name": "python3"
  },
  "language_info": {
   "codemirror_mode": {
    "name": "ipython",
    "version": 3
   },
   "file_extension": ".py",
   "mimetype": "text/x-python",
   "name": "python",
   "nbconvert_exporter": "python",
   "pygments_lexer": "ipython3",
   "version": "3.12.3"
  }
 },
 "nbformat": 4,
 "nbformat_minor": 5
}
